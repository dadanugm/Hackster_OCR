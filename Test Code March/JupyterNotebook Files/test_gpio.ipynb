{
 "cells": [
  {
   "cell_type": "code",
   "execution_count": 1,
   "id": "2b8f84b3",
   "metadata": {},
   "outputs": [
    {
     "data": {
      "application/javascript": [
       "\n",
       "try {\n",
       "require(['notebook/js/codecell'], function(codecell) {\n",
       "  codecell.CodeCell.options_default.highlight_modes[\n",
       "      'magic_text/x-csrc'] = {'reg':[/^%%microblaze/]};\n",
       "  Jupyter.notebook.events.one('kernel_ready.Kernel', function(){\n",
       "      Jupyter.notebook.get_cells().map(function(cell){\n",
       "          if (cell.cell_type == 'code'){ cell.auto_highlight(); } }) ;\n",
       "  });\n",
       "});\n",
       "} catch (e) {};\n"
      ]
     },
     "metadata": {},
     "output_type": "display_data"
    },
    {
     "data": {
      "application/javascript": [
       "\n",
       "try {\n",
       "require(['notebook/js/codecell'], function(codecell) {\n",
       "  codecell.CodeCell.options_default.highlight_modes[\n",
       "      'magic_text/x-csrc'] = {'reg':[/^%%pybind11/]};\n",
       "  Jupyter.notebook.events.one('kernel_ready.Kernel', function(){\n",
       "      Jupyter.notebook.get_cells().map(function(cell){\n",
       "          if (cell.cell_type == 'code'){ cell.auto_highlight(); } }) ;\n",
       "  });\n",
       "});\n",
       "} catch (e) {};\n"
      ]
     },
     "metadata": {},
     "output_type": "display_data"
    },
    {
     "name": "stdout",
     "output_type": "stream",
     "text": [
      "button 1 pressed\n",
      "button 2 pressed\n"
     ]
    }
   ],
   "source": [
    "from kv260 import BaseOverlay\n",
    "from pynq.lib.pmod.pmod_io import Pmod_IO\n",
    "from threading import Thread\n",
    "import time\n",
    "\n",
    "base = BaseOverlay('base.bit')\n",
    "SW1=Pmod_IO(base.PMODA,index=0,direction='in')\n",
    "SW2=Pmod_IO(base.PMODA,index=4,direction='in')\n",
    "SW3=Pmod_IO(base.PMODA,index=1,direction='in')\n",
    "SW4=Pmod_IO(base.PMODA,index=5,direction='in')\n",
    "\n",
    "############### SCAN GPIO ############\n",
    "def scan_gpio1():\n",
    "    global play\n",
    "    while(True):\n",
    "        time.sleep(0.5)\n",
    "        val = SW1.read()\n",
    "        if val == 1:\n",
    "            start = True\n",
    "            print(\"button 1 pressed\")\n",
    "\n",
    "def scan_gpio2():\n",
    "    global play, start, pl_sound\n",
    "    while(True):\n",
    "        time.sleep(0.5)\n",
    "        val = SW2.read()\n",
    "        if val == 1:\n",
    "            print(\"button 2 pressed\")\n",
    "\n",
    "def scan_gpio3():\n",
    "    while(True):\n",
    "        time.sleep(0.5)\n",
    "        val = SW3.read()\n",
    "        if val == 1:\n",
    "            print(\"button 3 pressed\")\n",
    "\n",
    "def scan_gpio4():\n",
    "    while(True):\n",
    "        time.sleep(0.5)\n",
    "        val = SW4.read()\n",
    "        if val == 1:\n",
    "            print(\"button 4 pressed\")\n",
    "\n",
    "if __name__ == \"__main__\":\n",
    "    # multitrhreading\n",
    "    #scan GPIO\n",
    "    th_gpio1 = Thread(target=scan_gpio1, name='scan gpio 1')\n",
    "    th_gpio2 = Thread(target=scan_gpio2, name='scan gpio 2')\n",
    "    th_gpio3 = Thread(target=scan_gpio3, name='scan gpio 3')\n",
    "    th_gpio4 = Thread(target=scan_gpio4, name='scan gpio 4')\n",
    "    # Start threads\n",
    "    th_gpio1.start()\n",
    "    time.sleep(1)\n",
    "    th_gpio2.start()\n",
    "    time.sleep(1)\n",
    "    th_gpio3.start()\n",
    "    time.sleep(1)\n",
    "    th_gpio4.start()\n",
    "    time.sleep(1)"
   ]
  },
  {
   "cell_type": "code",
   "execution_count": null,
   "id": "16c85426",
   "metadata": {},
   "outputs": [],
   "source": []
  }
 ],
 "metadata": {
  "kernelspec": {
   "display_name": "Python 3",
   "language": "python",
   "name": "python3"
  },
  "language_info": {
   "codemirror_mode": {
    "name": "ipython",
    "version": 3
   },
   "file_extension": ".py",
   "mimetype": "text/x-python",
   "name": "python",
   "nbconvert_exporter": "python",
   "pygments_lexer": "ipython3",
   "version": "3.8.10"
  }
 },
 "nbformat": 4,
 "nbformat_minor": 5
}
