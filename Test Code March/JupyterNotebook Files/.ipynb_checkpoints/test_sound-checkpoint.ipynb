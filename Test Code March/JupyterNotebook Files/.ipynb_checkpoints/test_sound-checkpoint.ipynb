{
 "cells": [
  {
   "cell_type": "code",
   "execution_count": 1,
   "id": "00f5a1db",
   "metadata": {},
   "outputs": [],
   "source": [
    "from IPython.display import Audio\n",
    "Audio(\"Test_playsound.mp3\",autoplay=True)\n",
    "\n",
    "#def play_sound():\n",
    "#    Audio(\"Test_playsound.mp3\",autoplay=True)\n",
    "\n",
    "#play_sound()"
   ]
  },
  {
   "cell_type": "code",
   "execution_count": null,
   "id": "be9859ff",
   "metadata": {},
   "outputs": [],
   "source": []
  }
 ],
 "metadata": {
  "kernelspec": {
   "display_name": "Python 3",
   "language": "python",
   "name": "python3"
  },
  "language_info": {
   "codemirror_mode": {
    "name": "ipython",
    "version": 3
   },
   "file_extension": ".py",
   "mimetype": "text/x-python",
   "name": "python",
   "nbconvert_exporter": "python",
   "pygments_lexer": "ipython3",
   "version": "3.8.10"
  }
 },
 "nbformat": 4,
 "nbformat_minor": 5
}
